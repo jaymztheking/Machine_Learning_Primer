{
 "cells": [
  {
   "cell_type": "markdown",
   "metadata": {},
   "source": [
    "# A Fundamental Example of Machine Learning\n",
    "*by James Medaugh*"
   ]
  },
  {
   "cell_type": "markdown",
   "metadata": {},
   "source": [
    "## Overview\n",
    "The goal of this notebook is to demonstrate one of the most elementary possible examples of a machine learning implementation. In the interest of simplicity, the model will use linear regression to estimate one output variable based upon the value of one numeric input variable.  I will use a few well known libraries such as matplotlib for graphing, pandas for reading csv data, and few others, but the focus of this notebook should be the mathematics and visual representations.\n",
    "\n",
    "## Scenario\n",
    "The data we will use for this is a simple and silly example.  The only input variable, also called a feature, will be \"number of explosions\".  The output variable will be \"James' rating of the film\" with values ranging from 0 to 10.  The dataset contains records 50 fictious films.  It is also worth mentioning that the movie rating precision is egregiously specific (e.g. 6.025596752 movie rating out of 10).  Pretend for the sake of the example that I actually care to be that precise about how much I like a movie.\n",
    "\n",
    "    Independent Variable (X) - # of explosions in a film\n",
    "    Dependent Variable (Y) - James' rating of film\n",
    "    Model - Linear Regression\n",
    "    Optimization Method - Batch Gradient Descent\n",
    "\n",
    "## Steps\n",
    "\n",
    "First thing we need to do is get the data out of the CSV and into a python object.  Here I'm using Pandas to read the CSV file and sorting the data once it is read so it is easier to plot"
   ]
  },
  {
   "cell_type": "code",
   "execution_count": 1,
   "metadata": {},
   "outputs": [],
   "source": [
    "import pandas as pd\n",
    "\n",
    "data = pd.read_csv('movie_ratings.csv')\n",
    "data = data.sort_values(by=['num_explosions'])"
   ]
  },
  {
   "cell_type": "markdown",
   "metadata": {},
   "source": [
    "Next, we are going to use matplotlib to create a scatter plot.  We are graphing our X variable, number of explosions, against our Y variable James' movie rating.  I also added some axis scaling and labels.  Let's see if any patterns emerge..."
   ]
  },
  {
   "cell_type": "code",
   "execution_count": 2,
   "metadata": {},
   "outputs": [
    {
     "ename": "ModuleNotFoundError",
     "evalue": "No module named 'matplotlib'",
     "output_type": "error",
     "traceback": [
      "\u001b[1;31m---------------------------------------------------------------------------\u001b[0m",
      "\u001b[1;31mModuleNotFoundError\u001b[0m                       Traceback (most recent call last)",
      "\u001b[1;32m<ipython-input-2-480eb5716608>\u001b[0m in \u001b[0;36m<module>\u001b[1;34m\u001b[0m\n\u001b[1;32m----> 1\u001b[1;33m \u001b[1;32mfrom\u001b[0m \u001b[0mmatplotlib\u001b[0m \u001b[1;32mimport\u001b[0m \u001b[0mpyplot\u001b[0m \u001b[1;32mas\u001b[0m \u001b[0mplt\u001b[0m\u001b[1;33m\u001b[0m\u001b[1;33m\u001b[0m\u001b[0m\n\u001b[0m\u001b[0;32m      2\u001b[0m \u001b[1;33m\u001b[0m\u001b[0m\n\u001b[0;32m      3\u001b[0m \u001b[0mplt\u001b[0m\u001b[1;33m.\u001b[0m\u001b[0mscatter\u001b[0m\u001b[1;33m(\u001b[0m\u001b[0mdata\u001b[0m\u001b[1;33m[\u001b[0m\u001b[1;34m'num_explosions'\u001b[0m\u001b[1;33m]\u001b[0m\u001b[1;33m,\u001b[0m\u001b[0mdata\u001b[0m\u001b[1;33m[\u001b[0m\u001b[1;34m'james_movie_rating'\u001b[0m\u001b[1;33m]\u001b[0m\u001b[1;33m)\u001b[0m\u001b[1;33m\u001b[0m\u001b[1;33m\u001b[0m\u001b[0m\n\u001b[0;32m      4\u001b[0m \u001b[0mplt\u001b[0m\u001b[1;33m.\u001b[0m\u001b[0maxis\u001b[0m\u001b[1;33m(\u001b[0m\u001b[1;33m[\u001b[0m\u001b[1;36m0\u001b[0m\u001b[1;33m,\u001b[0m \u001b[1;36m10\u001b[0m\u001b[1;33m,\u001b[0m \u001b[1;36m0\u001b[0m\u001b[1;33m,\u001b[0m \u001b[1;36m10\u001b[0m\u001b[1;33m]\u001b[0m\u001b[1;33m)\u001b[0m\u001b[1;33m\u001b[0m\u001b[1;33m\u001b[0m\u001b[0m\n\u001b[0;32m      5\u001b[0m \u001b[0mplt\u001b[0m\u001b[1;33m.\u001b[0m\u001b[0mxlabel\u001b[0m\u001b[1;33m(\u001b[0m\u001b[1;34m'Number of Explosions'\u001b[0m\u001b[1;33m)\u001b[0m\u001b[1;33m\u001b[0m\u001b[1;33m\u001b[0m\u001b[0m\n",
      "\u001b[1;31mModuleNotFoundError\u001b[0m: No module named 'matplotlib'"
     ]
    }
   ],
   "source": [
    "from matplotlib import pyplot as plt\n",
    "\n",
    "plt.scatter(data['num_explosions'],data['james_movie_rating'])\n",
    "plt.axis([0, 10, 0, 10])\n",
    "plt.xlabel('Number of Explosions')\n",
    "plt.ylabel('James'' movie rating' )\n",
    "plt.title('Scatter Plot of Movie Data')\n",
    "plt.show()"
   ]
  },
  {
   "cell_type": "markdown",
   "metadata": {},
   "source": [
    "We can see there is a pretty obvious linear relationship here.  Our next goal is to draw a line that best matches the trend displayed on the graph.  This line has many names: regression line, line of best fit, trendline and perhaps others.  But while the line may have many names, it only has one universal equation:\n",
    "\n",
    "$$y = mx + b$$\n",
    "\n",
    "This becomes our model.  Our X variable of number of explosions times some value m plus some value b will let us estimate the movie rating.  But how do we find the correct values for m and b?  There are an infinte combination of values for m and b together that define an infinite number.  Enter the cost function.\n",
    "    \n",
    "\n",
    "## Cost Function - Scoring Your Model\n",
    "\n",
    "When determining the regression line purely from a visual standpoint, it becomes clear that not all lines are created equal...\n",
    "\n",
    "For example this line (m=.7, b= 3) is fairly close to most of the data points\n"
   ]
  },
  {
   "cell_type": "code",
   "execution_count": null,
   "metadata": {},
   "outputs": [],
   "source": [
    "import numpy as np\n",
    "\n",
    "#Defines the trend line\n",
    "m = .7\n",
    "b = 3\n",
    "linex = np.arange(0,11)        #list of number 0 to 10\n",
    "liney = m*linex+b              #line equation\n",
    "\n",
    "#Scatter Plot and Formatting\n",
    "plt.scatter(data['num_explosions'],data['james_movie_rating'])\n",
    "plt.axis([0, 10, 0, 10])\n",
    "plt.xlabel('Number of Explosions')\n",
    "plt.ylabel('James'' movie rating' )\n",
    "plt.title('Scatter Plot of Movie Data')\n",
    "\n",
    "#Adds trend line\n",
    "plt.plot(linex,liney)\n",
    "plt.show()"
   ]
  },
  {
   "cell_type": "markdown",
   "metadata": {},
   "source": [
    "But this line (m= 10, b= -20) is no where close to matching all of the data points"
   ]
  },
  {
   "cell_type": "code",
   "execution_count": 3,
   "metadata": {},
   "outputs": [
    {
     "ename": "NameError",
     "evalue": "name 'plt' is not defined",
     "output_type": "error",
     "traceback": [
      "\u001b[1;31m---------------------------------------------------------------------------\u001b[0m",
      "\u001b[1;31mNameError\u001b[0m                                 Traceback (most recent call last)",
      "\u001b[1;32m<ipython-input-3-1285278faa84>\u001b[0m in \u001b[0;36m<module>\u001b[1;34m\u001b[0m\n\u001b[0;32m      8\u001b[0m \u001b[1;33m\u001b[0m\u001b[0m\n\u001b[0;32m      9\u001b[0m \u001b[1;31m#Scatter Plot and Formatting\u001b[0m\u001b[1;33m\u001b[0m\u001b[1;33m\u001b[0m\u001b[1;33m\u001b[0m\u001b[0m\n\u001b[1;32m---> 10\u001b[1;33m \u001b[0mplt\u001b[0m\u001b[1;33m.\u001b[0m\u001b[0mscatter\u001b[0m\u001b[1;33m(\u001b[0m\u001b[0mdata\u001b[0m\u001b[1;33m[\u001b[0m\u001b[1;34m'num_explosions'\u001b[0m\u001b[1;33m]\u001b[0m\u001b[1;33m,\u001b[0m\u001b[0mdata\u001b[0m\u001b[1;33m[\u001b[0m\u001b[1;34m'james_movie_rating'\u001b[0m\u001b[1;33m]\u001b[0m\u001b[1;33m)\u001b[0m\u001b[1;33m\u001b[0m\u001b[1;33m\u001b[0m\u001b[0m\n\u001b[0m\u001b[0;32m     11\u001b[0m \u001b[0mplt\u001b[0m\u001b[1;33m.\u001b[0m\u001b[0maxis\u001b[0m\u001b[1;33m(\u001b[0m\u001b[1;33m[\u001b[0m\u001b[1;36m0\u001b[0m\u001b[1;33m,\u001b[0m \u001b[1;36m10\u001b[0m\u001b[1;33m,\u001b[0m \u001b[1;36m0\u001b[0m\u001b[1;33m,\u001b[0m \u001b[1;36m10\u001b[0m\u001b[1;33m]\u001b[0m\u001b[1;33m)\u001b[0m\u001b[1;33m\u001b[0m\u001b[1;33m\u001b[0m\u001b[0m\n\u001b[0;32m     12\u001b[0m \u001b[0mplt\u001b[0m\u001b[1;33m.\u001b[0m\u001b[0mxlabel\u001b[0m\u001b[1;33m(\u001b[0m\u001b[1;34m'Number of Explosions'\u001b[0m\u001b[1;33m)\u001b[0m\u001b[1;33m\u001b[0m\u001b[1;33m\u001b[0m\u001b[0m\n",
      "\u001b[1;31mNameError\u001b[0m: name 'plt' is not defined"
     ]
    }
   ],
   "source": [
    "import numpy as np\n",
    "\n",
    "#Defines the trend line\n",
    "m = 10\n",
    "b = -20\n",
    "linex = np.arange(0,11)        #list of number 0 to 10\n",
    "liney = m*linex+b              #line equation\n",
    "\n",
    "#Scatter Plot and Formatting\n",
    "plt.scatter(data['num_explosions'],data['james_movie_rating'])\n",
    "plt.axis([0, 10, 0, 10])\n",
    "plt.xlabel('Number of Explosions')\n",
    "plt.ylabel('James'' movie rating' )\n",
    "plt.title('Scatter Plot of Movie Data')\n",
    "\n",
    "#Adds trend line\n",
    "plt.plot(linex,liney)\n",
    "plt.show()"
   ]
  },
  {
   "cell_type": "markdown",
   "metadata": {},
   "source": [
    "We know intuitively why the first example is a good fit and the second example is a bad fit.  However we need a way to empirically measure just how close or far the line is to the data points to quantify just how good or bad of a fit a line is.  This is accomplished by calculating the mean squared error.  The equation to calculate mean squared error is\n",
    "$$MSE = \\frac{1}{n}\\sum_{i=1}^n (y_i - \\hat{y}_i)^2$$\n",
    "\n",
    "It looks intimidating at first, but if you unpack the expression into a plain english set of steps it is pretty easy and intuitive.\n",
    "    \n",
    "1. For each data point, find the difference between the actual value ($Y_i$) and the estimated value ($\\hat{Y}_i$)\n",
    "2. Square the difference of each to get rid of negative values (so they don't cancel out positive values)\n",
    "3. Add all of these square together and divide by the number of data points.\n",
    "\n",
    "Lets run through the calculation with a few data points in the data set.  We'll do one table for the \"good line\" (m= .7, b= 3) and one table for the \"bad line\" (m= 10, b= -20)\n",
    "\n",
    "#### Squared Errors for the \"Good\" Line\n",
    "\n",
    "| X value | X in model eq. | Est. Y value | Actual Y value | Squared Error |\n",
    "|---------|----------------|--------------|----------------|---------------|\n",
    "|    5    | Y = .7 * 5 + 3 |      6.5     |     6.0256     |     0.225     |\n",
    "|   10    | Y = .7 * 10 + 3|      10      |     8.6804     |     1.741     |\n",
    "|    0    | Y = .7 * 0 + 3 |      3       |     4.9270     |     3.713     |\n",
    "| ......  | ......         | do this      | 47 more times  | ......        |\n",
    "| Total   |      .         |    .         |  .             |        73.2426|       \n",
    "\n",
    "We still need to divide the total sum of squared error (73.2426) by the number of data points, which is 50.  This gives us a MSE value of roughly 1.465.  Now lets look at the bad line\n",
    "\n",
    "#### Squared Errors for the \"Bad\" Line\n",
    "\n",
    "| X value | X in model eq.  | Est. Y value | Actual Y value | Squared Error |\n",
    "|---------|---------------- |--------------|----------------|---------------|\n",
    "|    5    | Y = 10 * 5 - 20 |      30      |     6.0256     |     574.77    |\n",
    "|   10    | Y = 10 * 10 - 20|      80      |     8.6804     |     5086.48   |\n",
    "|    0    | Y = 10 * 0 - 20 |      -20     |     4.9270     |     621.36    |\n",
    "| ......  | ......          | do this      | 47 more times  | ......        |\n",
    "| Total   |      .          |    .         |  .             |       56007.79|\n",
    "\n",
    "Dividing this total by our 50 data points, we get a MSE value of 1120.16.  Comparing this to the good line's MSE of 1.465, we can see that the bad line is much worse match of the data and therefore does a much poorer job of predicting the movie rating.\n"
   ]
  },
  {
   "cell_type": "code",
   "execution_count": null,
   "metadata": {},
   "outputs": [],
   "source": []
  }
 ],
 "metadata": {
  "kernelspec": {
   "display_name": "Python 3",
   "language": "python",
   "name": "python3"
  },
  "language_info": {
   "codemirror_mode": {
    "name": "ipython",
    "version": 3
   },
   "file_extension": ".py",
   "mimetype": "text/x-python",
   "name": "python",
   "nbconvert_exporter": "python",
   "pygments_lexer": "ipython3",
   "version": "3.7.1"
  }
 },
 "nbformat": 4,
 "nbformat_minor": 2
}
